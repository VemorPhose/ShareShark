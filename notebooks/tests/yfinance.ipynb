{
 "cells": [
  {
   "cell_type": "code",
   "execution_count": 23,
   "id": "b73fc84f",
   "metadata": {},
   "outputs": [],
   "source": [
    "import yfinance as yf\n",
    "import pandas as pd\n",
    "import matplotlib.pyplot as plt\n",
    "import seaborn as sns"
   ]
  },
  {
   "cell_type": "code",
   "execution_count": null,
   "id": "bbc0aa48",
   "metadata": {},
   "outputs": [
    {
     "name": "stdout",
     "output_type": "stream",
     "text": [
      "Historical Data:\n",
      "                                  Open         High          Low        Close  \\\n",
      "Date                                                                            \n",
      "2025-06-20 00:00:00+05:30  1431.000000  1471.000000  1428.099976  1466.199951   \n",
      "2025-06-23 00:00:00+05:30  1453.000000  1463.800049  1442.000000  1456.800049   \n",
      "2025-06-24 00:00:00+05:30  1465.000000  1475.000000  1443.099976  1450.800049   \n",
      "2025-06-25 00:00:00+05:30  1464.000000  1472.400024  1460.500000  1467.300049   \n",
      "2025-06-26 00:00:00+05:30  1469.099976  1498.800049  1465.099976  1495.300049   \n",
      "\n",
      "                             Volume  Dividends  Stock Splits  \n",
      "Date                                                          \n",
      "2025-06-20 00:00:00+05:30  29010635        0.0           0.0  \n",
      "2025-06-23 00:00:00+05:30   5989078        0.0           0.0  \n",
      "2025-06-24 00:00:00+05:30  16402744        0.0           0.0  \n",
      "2025-06-25 00:00:00+05:30   7525851        0.0           0.0  \n",
      "2025-06-26 00:00:00+05:30  14655524        0.0           0.0  \n"
     ]
    }
   ],
   "source": [
    "# ticker_symbol = 'RELIANCE.NS'\n",
    "# ticker = yf.Ticker(ticker_symbol)\n",
    "\n",
    "# # Fetch historical market data\n",
    "# historical_data = ticker.history(period=\"1y\")  # data for the last year\n",
    "# print(\"Historical Data:\")\n",
    "# print(historical_data.tail())\n",
    "\n",
    "# # Fetch basic financials\n",
    "# financials = ticker.financials\n",
    "# print(\"\\nFinancials:\")\n",
    "# print(financials)\n",
    "\n",
    "# # Fetch stock actions like dividends and splits\n",
    "# actions = ticker.actions\n",
    "# print(\"\\nStock Actions:\")\n",
    "# print(actions)"
   ]
  },
  {
   "cell_type": "code",
   "execution_count": 27,
   "id": "8478027e",
   "metadata": {},
   "outputs": [
    {
     "name": "stdout",
     "output_type": "stream",
     "text": [
      "                                  Open         High          Low        Close  \\\n",
      "Datetime                                                                        \n",
      "2025-06-19 09:15:00+05:30  1430.000000  1431.199951  1426.199951  1429.000000   \n",
      "2025-06-19 09:16:00+05:30  1429.400024  1431.400024  1429.300049  1430.800049   \n",
      "2025-06-19 09:17:00+05:30  1430.800049  1430.800049  1429.000000  1430.500000   \n",
      "2025-06-19 09:18:00+05:30  1430.500000  1430.599976  1428.000000  1428.599976   \n",
      "2025-06-19 09:19:00+05:30  1428.099976  1428.900024  1427.199951  1428.000000   \n",
      "\n",
      "                           Volume  Dividends  Stock Splits  \n",
      "Datetime                                                    \n",
      "2025-06-19 09:15:00+05:30       0        0.0           0.0  \n",
      "2025-06-19 09:16:00+05:30   16601        0.0           0.0  \n",
      "2025-06-19 09:17:00+05:30   47056        0.0           0.0  \n",
      "2025-06-19 09:18:00+05:30   22086        0.0           0.0  \n",
      "2025-06-19 09:19:00+05:30   19153        0.0           0.0  \n"
     ]
    }
   ],
   "source": [
    "ticker_symbol = 'RELIANCE.NS'\n",
    "ticker = yf.Ticker(ticker_symbol)\n",
    "\n",
    "data = ticker.history(period=\"max\", interval=\"1m\")\n",
    "print(data.head())"
   ]
  },
  {
   "cell_type": "code",
   "execution_count": 36,
   "id": "73bdbce9",
   "metadata": {},
   "outputs": [
    {
     "name": "stdout",
     "output_type": "stream",
     "text": [
      "                                  Open         High          Low        Close  \\\n",
      "Datetime                                                                        \n",
      "2025-06-19 09:15:00+05:30  1430.000000  1431.199951  1426.199951  1429.000000   \n",
      "2025-06-19 09:16:00+05:30  1429.400024  1431.400024  1429.300049  1430.800049   \n",
      "2025-06-19 09:17:00+05:30  1430.800049  1430.800049  1429.000000  1430.500000   \n",
      "2025-06-19 09:18:00+05:30  1430.500000  1430.599976  1428.000000  1428.599976   \n",
      "2025-06-19 09:19:00+05:30  1428.099976  1428.900024  1427.199951  1428.000000   \n",
      "\n",
      "                           Volume  Dividends  Stock Splits  \\\n",
      "Datetime                                                     \n",
      "2025-06-19 09:15:00+05:30       0        0.0           0.0   \n",
      "2025-06-19 09:16:00+05:30   16601        0.0           0.0   \n",
      "2025-06-19 09:17:00+05:30   47056        0.0           0.0   \n",
      "2025-06-19 09:18:00+05:30   22086        0.0           0.0   \n",
      "2025-06-19 09:19:00+05:30   19153        0.0           0.0   \n",
      "\n",
      "                                           Datetime  \n",
      "Datetime                                             \n",
      "2025-06-19 09:15:00+05:30 2025-06-19 09:15:00+05:30  \n",
      "2025-06-19 09:16:00+05:30 2025-06-19 09:16:00+05:30  \n",
      "2025-06-19 09:17:00+05:30 2025-06-19 09:17:00+05:30  \n",
      "2025-06-19 09:18:00+05:30 2025-06-19 09:18:00+05:30  \n",
      "2025-06-19 09:19:00+05:30 2025-06-19 09:19:00+05:30  \n"
     ]
    }
   ],
   "source": [
    "df = pd.DataFrame(data)\n",
    "df['Datetime'] = df.index\n",
    "print(df.head())\n",
    "# df to csv\n",
    "df.to_csv('reliance_data.csv', index=False)"
   ]
  }
 ],
 "metadata": {
  "kernelspec": {
   "display_name": ".venv",
   "language": "python",
   "name": "python3"
  },
  "language_info": {
   "codemirror_mode": {
    "name": "ipython",
    "version": 3
   },
   "file_extension": ".py",
   "mimetype": "text/x-python",
   "name": "python",
   "nbconvert_exporter": "python",
   "pygments_lexer": "ipython3",
   "version": "3.9.7"
  }
 },
 "nbformat": 4,
 "nbformat_minor": 5
}
